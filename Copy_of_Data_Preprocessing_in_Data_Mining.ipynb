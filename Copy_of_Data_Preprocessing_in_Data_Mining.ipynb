{
  "nbformat": 4,
  "nbformat_minor": 0,
  "metadata": {
    "colab": {
      "provenance": [],
      "include_colab_link": true
    },
    "kernelspec": {
      "name": "python3",
      "display_name": "Python 3"
    },
    "language_info": {
      "name": "python"
    }
  },
  "cells": [
    {
      "cell_type": "markdown",
      "metadata": {
        "id": "view-in-github",
        "colab_type": "text"
      },
      "source": [
        "<a href=\"https://colab.research.google.com/github/shoaib-713/Data_Mining_Assignment/blob/main/Copy_of_Data_Preprocessing_in_Data_Mining.ipynb\" target=\"_parent\"><img src=\"https://colab.research.google.com/assets/colab-badge.svg\" alt=\"Open In Colab\"/></a>"
      ]
    },
    {
      "cell_type": "code",
      "execution_count": null,
      "metadata": {
        "colab": {
          "base_uri": "https://localhost:8080/"
        },
        "id": "zpkc_seZPw6f",
        "outputId": "c81560d6-fb65-490f-8709-151b2077d1d3"
      },
      "outputs": [
        {
          "output_type": "stream",
          "name": "stdout",
          "text": [
            "   PassengerId  Survived  Pclass  \\\n",
            "0            1         0       3   \n",
            "1            2         1       1   \n",
            "2            3         1       3   \n",
            "3            4         1       1   \n",
            "4            5         0       3   \n",
            "\n",
            "                                                Name     Sex   Age  SibSp  \\\n",
            "0                            Braund, Mr. Owen Harris    male  22.0      1   \n",
            "1  Cumings, Mrs. John Bradley (Florence Briggs Th...  female  38.0      1   \n",
            "2                             Heikkinen, Miss. Laina  female  26.0      0   \n",
            "3       Futrelle, Mrs. Jacques Heath (Lily May Peel)  female  35.0      1   \n",
            "4                           Allen, Mr. William Henry    male  35.0      0   \n",
            "\n",
            "   Parch            Ticket     Fare Cabin Embarked Title  \n",
            "0      0         A/5 21171   7.2500   NaN        S    Mr  \n",
            "1      0          PC 17599  71.2833   C85        C   Mrs  \n",
            "2      0  STON/O2. 3101282   7.9250   NaN        S  Miss  \n",
            "3      0            113803  53.1000  C123        S   Mrs  \n",
            "4      0            373450   8.0500   NaN        S    Mr  \n"
          ]
        }
      ],
      "source": [
        "import pandas as pd\n",
        "import numpy as np\n",
        "# Loading the data\n",
        "df = pd.read_csv(\"train.csv\")\n",
        "# Extracting Title from Name\n",
        "df['Title'] = df['Name'].str.extract(' ([A-Za-z]+)\\.', expand=False)\n",
        "\n",
        "\n",
        "\n",
        "print(df.head())\n",
        "\n",
        "\n"
      ]
    },
    {
      "cell_type": "code",
      "source": [
        "#data cleaning\n",
        "print(df.isnull().sum())\n"
      ],
      "metadata": {
        "colab": {
          "base_uri": "https://localhost:8080/"
        },
        "id": "oyJeSNNwRD5P",
        "outputId": "8e9cb2df-a052-4e35-ed4a-bd6b03c1fa44"
      },
      "execution_count": null,
      "outputs": [
        {
          "output_type": "stream",
          "name": "stdout",
          "text": [
            "PassengerId      0\n",
            "Survived         0\n",
            "Pclass           0\n",
            "Name             0\n",
            "Sex              0\n",
            "Age            177\n",
            "SibSp            0\n",
            "Parch            0\n",
            "Ticket           0\n",
            "Fare             0\n",
            "Cabin          687\n",
            "Embarked         2\n",
            "dtype: int64\n"
          ]
        }
      ]
    },
    {
      "cell_type": "code",
      "source": [
        "\n",
        "\n",
        "# Fill Age with mean\n",
        "df['Age'].fillna(df['Age'].mean(), inplace=True)\n",
        "\n",
        "# Fill Embarked with mode\n",
        "df['Embarked'].fillna(df['Embarked'].mode()[0], inplace=True)\n",
        "\n",
        "#drop cabin\n",
        "if 'Cabin' in df.columns:\n",
        "    df.drop(columns=['Cabin'], inplace=True)\n",
        "\n",
        "\n",
        "print(df.isnull().sum())\n",
        "\n"
      ],
      "metadata": {
        "colab": {
          "base_uri": "https://localhost:8080/"
        },
        "id": "ep3iRiombU0G",
        "outputId": "1e44df65-54fb-41f2-879a-1199b0561e27"
      },
      "execution_count": null,
      "outputs": [
        {
          "output_type": "stream",
          "name": "stdout",
          "text": [
            "PassengerId    0\n",
            "Survived       0\n",
            "Pclass         0\n",
            "Name           0\n",
            "Sex            0\n",
            "Age            0\n",
            "SibSp          0\n",
            "Parch          0\n",
            "Ticket         0\n",
            "Fare           0\n",
            "Embarked       0\n",
            "dtype: int64\n"
          ]
        },
        {
          "output_type": "stream",
          "name": "stderr",
          "text": [
            "<ipython-input-20-e42325e2cfd6>:2: FutureWarning: A value is trying to be set on a copy of a DataFrame or Series through chained assignment using an inplace method.\n",
            "The behavior will change in pandas 3.0. This inplace method will never work because the intermediate object on which we are setting values always behaves as a copy.\n",
            "\n",
            "For example, when doing 'df[col].method(value, inplace=True)', try using 'df.method({col: value}, inplace=True)' or df[col] = df[col].method(value) instead, to perform the operation inplace on the original object.\n",
            "\n",
            "\n",
            "  df['Age'].fillna(df['Age'].mean(), inplace=True)\n",
            "<ipython-input-20-e42325e2cfd6>:5: FutureWarning: A value is trying to be set on a copy of a DataFrame or Series through chained assignment using an inplace method.\n",
            "The behavior will change in pandas 3.0. This inplace method will never work because the intermediate object on which we are setting values always behaves as a copy.\n",
            "\n",
            "For example, when doing 'df[col].method(value, inplace=True)', try using 'df.method({col: value}, inplace=True)' or df[col] = df[col].method(value) instead, to perform the operation inplace on the original object.\n",
            "\n",
            "\n",
            "  df['Embarked'].fillna(df['Embarked'].mode()[0], inplace=True)\n"
          ]
        }
      ]
    },
    {
      "cell_type": "code",
      "source": [
        "#handling noisy data\n",
        "#so creating age bins\n",
        "bins = [0, 12, 18, 35, 60, np.inf]\n",
        "labels = ['Child', 'Teen', 'Young Adult', 'Adult', 'Senior']\n",
        "df['AgeGroup'] = pd.cut(df['Age'], bins=bins, labels=labels)\n",
        "\n",
        "print(df[['Age', 'AgeGroup']].head())"
      ],
      "metadata": {
        "colab": {
          "base_uri": "https://localhost:8080/"
        },
        "id": "dI0gOze7b2Wm",
        "outputId": "2a5e3f07-9979-4555-b3b2-e8c508ff6fe9"
      },
      "execution_count": null,
      "outputs": [
        {
          "output_type": "stream",
          "name": "stdout",
          "text": [
            "    Age     AgeGroup\n",
            "0  22.0  Young Adult\n",
            "1  38.0        Adult\n",
            "2  26.0  Young Adult\n",
            "3  35.0  Young Adult\n",
            "4  35.0  Young Adult\n"
          ]
        }
      ]
    },
    {
      "cell_type": "code",
      "source": [
        "#data integration\n",
        "df.to_csv(\"titanic_preprocessed.csv\", index=False)\n"
      ],
      "metadata": {
        "id": "MWGjnE_JdUPj"
      },
      "execution_count": null,
      "outputs": []
    },
    {
      "cell_type": "code",
      "source": [
        "df_test = pd.read_csv(\"test.csv\")\n",
        "\n",
        "#Combining train and test\n",
        "combined_df = pd.concat([df, df_test], ignore_index=True, sort=False)\n",
        "\n",
        "# combined data info\n",
        "print(combined_df.info())\n"
      ],
      "metadata": {
        "colab": {
          "base_uri": "https://localhost:8080/"
        },
        "id": "0-PxAK68dKrJ",
        "outputId": "e64dc1f1-03c4-4d57-be7e-b424f466f7e0"
      },
      "execution_count": null,
      "outputs": [
        {
          "output_type": "stream",
          "name": "stdout",
          "text": [
            "<class 'pandas.core.frame.DataFrame'>\n",
            "RangeIndex: 1309 entries, 0 to 1308\n",
            "Data columns (total 14 columns):\n",
            " #   Column       Non-Null Count  Dtype   \n",
            "---  ------       --------------  -----   \n",
            " 0   PassengerId  1309 non-null   int64   \n",
            " 1   Survived     891 non-null    float64 \n",
            " 2   Pclass       1309 non-null   int64   \n",
            " 3   Name         1309 non-null   object  \n",
            " 4   Sex          1309 non-null   object  \n",
            " 5   Age          1046 non-null   float64 \n",
            " 6   SibSp        1309 non-null   int64   \n",
            " 7   Parch        1309 non-null   int64   \n",
            " 8   Ticket       1309 non-null   object  \n",
            " 9   Fare         1308 non-null   float64 \n",
            " 10  Cabin        295 non-null    object  \n",
            " 11  Embarked     1307 non-null   object  \n",
            " 12  Title        891 non-null    object  \n",
            " 13  AgeGroup     714 non-null    category\n",
            "dtypes: category(1), float64(3), int64(4), object(6)\n",
            "memory usage: 134.6+ KB\n",
            "None\n"
          ]
        }
      ]
    }
  ]
}